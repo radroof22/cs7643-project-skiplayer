{
 "cells": [
  {
   "cell_type": "code",
   "execution_count": 1,
   "metadata": {},
   "outputs": [],
   "source": [
    "%load_ext autoreload\n",
    "\n",
    "%autoreload 2"
   ]
  },
  {
   "cell_type": "code",
   "execution_count": 2,
   "metadata": {},
   "outputs": [
    {
     "name": "stderr",
     "output_type": "stream",
     "text": [
      "/home/hice1/rmehta98/.conda/envs/cs7643/lib/python3.13/site-packages/tqdm/auto.py:21: TqdmWarning: IProgress not found. Please update jupyter and ipywidgets. See https://ipywidgets.readthedocs.io/en/stable/user_install.html\n",
      "  from .autonotebook import tqdm as notebook_tqdm\n"
     ]
    }
   ],
   "source": [
    "from gsm8k import GSM8KBenchmark\n",
    "from transformers import AutoModelForCausalLM, AutoTokenizer, logging\n"
   ]
  },
  {
   "cell_type": "code",
   "execution_count": 3,
   "metadata": {},
   "outputs": [],
   "source": [
    "import warnings\n",
    "import os\n",
    "\n",
    "logging.set_verbosity_error()\n",
    "warnings.filterwarnings('ignore', category=UserWarning)\n",
    "warnings.filterwarnings('ignore', category=FutureWarning)\n",
    "warnings.filterwarnings('ignore', category=DeprecationWarning)\n",
    "os.environ['TRANSFORMERS_VERBOSITY'] = 'error'\n",
    "os.environ['TOKENIZERS_PARALLELISM'] = 'false'"
   ]
  },
  {
   "cell_type": "code",
   "execution_count": 8,
   "metadata": {},
   "outputs": [
    {
     "name": "stdout",
     "output_type": "stream",
     "text": [
      "Using device: cuda\n",
      "Loading model and tokenizer: facebook/layerskip-llama3.2-1B\n",
      "\n",
      "Loading GSM8K dataset...\n",
      "\n",
      "Evaluating 10 questions from GSM8K\n"
     ]
    },
    {
     "name": "stderr",
     "output_type": "stream",
     "text": [
      " 10%|█         | 1/10 [00:04<00:39,  4.41s/it]"
     ]
    },
    {
     "name": "stdout",
     "output_type": "stream",
     "text": [
      "Model Answer: Allen's age 10 years from now = 162/\n",
      "Actual Answer:  109\n"
     ]
    },
    {
     "name": "stderr",
     "output_type": "stream",
     "text": [
      " 20%|██        | 2/10 [00:09<00:39,  4.99s/it]"
     ]
    },
    {
     "name": "stdout",
     "output_type": "stream",
     "text": [
      "Model Answer: 3\n",
      "Actual Answer:  89\n"
     ]
    },
    {
     "name": "stderr",
     "output_type": "stream",
     "text": [
      " 30%|███       | 3/10 [00:14<00:32,  4.68s/it]"
     ]
    },
    {
     "name": "stdout",
     "output_type": "stream",
     "text": [
      "Model Answer: Indras has 6 letters in her name. Her sister's name has 4\n",
      "Actual Answer:  13\n"
     ]
    },
    {
     "name": "stderr",
     "output_type": "stream",
     "text": [
      " 40%|████      | 4/10 [00:19<00:30,  5.08s/it]"
     ]
    },
    {
     "name": "stdout",
     "output_type": "stream",
     "text": [
      "Model Answer: 10 laps\n",
      "Actual Answer:  5\n"
     ]
    },
    {
     "name": "stderr",
     "output_type": "stream",
     "text": [
      " 50%|█████     | 5/10 [00:25<00:26,  5.20s/it]"
     ]
    },
    {
     "name": "stdout",
     "output_type": "stream",
     "text": [
      "Model Answer: The number of children following the truck is\n",
      "Actual Answer:  25\n"
     ]
    },
    {
     "name": "stderr",
     "output_type": "stream",
     "text": [
      " 60%|██████    | 6/10 [00:30<00:21,  5.39s/it]"
     ]
    },
    {
     "name": "stdout",
     "output_type": "stream",
     "text": [
      "Model Answer: 2.5 hours\n",
      "Actual Answer:  452\n"
     ]
    },
    {
     "name": "stderr",
     "output_type": "stream",
     "text": [
      " 70%|███████   | 7/10 [00:35<00:14,  4.94s/it]"
     ]
    },
    {
     "name": "stdout",
     "output_type": "stream",
     "text": [
      "Model Answer: 48\n",
      "Actual Answer:  43\n"
     ]
    },
    {
     "name": "stderr",
     "output_type": "stream",
     "text": [
      " 80%|████████  | 8/10 [00:39<00:09,  4.66s/it]"
     ]
    },
    {
     "name": "stdout",
     "output_type": "stream",
     "text": [
      "Model Answer: 2/3 x 2/3 = 1/3\n",
      "Actual Answer:  34\n"
     ]
    },
    {
     "name": "stderr",
     "output_type": "stream",
     "text": [
      " 90%|█████████ | 9/10 [00:44<00:04,  4.76s/it]"
     ]
    },
    {
     "name": "stdout",
     "output_type": "stream",
     "text": [
      "Model Answer: 15 feet/second = 15 feet/second\n",
      "Actual Answer:  120\n"
     ]
    },
    {
     "name": "stderr",
     "output_type": "stream",
     "text": [
      "100%|██████████| 10/10 [00:50<00:00,  5.08s/it]"
     ]
    },
    {
     "name": "stdout",
     "output_type": "stream",
     "text": [
      "Model Answer: The first plane takes 3/4 of the flights to Greece, 1/4 of the flights to France, and 1/4 of the flights to Germany. The second plane takes 1/4 of the flights to Greece, 1/4 of the flights to France, and 1/4 of the flights to Germany. Therefore, the first plane takes 3/4 of the flights to Greece, 1/4 of the flights to France, and 1/4 of the flights to Germany. The second plane takes 1/4 of the flights to Greece, 1/4 of the flights to France, and 1/4 of the flights to Germany. Therefore, the first plane takes 3/4 of the flights to Greece, 1/4 of the flights to France, and 1/4 of the flights to Germany. The second plane takes 1/4 of the flights to Greece, 1/4 of the flights to France, and 1/4 of the flights to Germany. Therefore, the first plane takes 3/4 of the flights to Greece, 1/4 of the flights to France, and 1/4 of the flights to Germany. The second plane takes 1/4 of the flights to Greece, 1/4 of the flights to France, and 1/4 of the flights to Germany. Therefore, the first plane takes 3/4 of the flights to Greece, 1/4 of the flights to France, and 1/4 of the flights to Germany. The second plane takes 1/4 of the flights to Greece, 1/4 of the flights to France, and 1/4 of the flights to Germany. Therefore, the first plane takes 3/4 of the flights to Greece, 1/4 of the flights to France, and 1/4 of the flights to Germany. The second plane takes 1/4 of the flights to Greece, 1/4 of the flights to France, and 1/4 of the flights to Germany. Therefore, the first plane takes 3/4 of the flights to Greece, 1/4 of the flights to France, and 1/4 of the flights to Germany. The second plane takes 1/4 of the flights to Greece, 1/4 of the flights to France, and 1/4 of the flights to Germany. Therefore, the first plane takes 3/4\n",
      "Actual Answer:  11\n",
      "\n",
      "Accuracy on GSM8K: 0.00%\n"
     ]
    },
    {
     "name": "stderr",
     "output_type": "stream",
     "text": [
      "\n"
     ]
    }
   ],
   "source": [
    "MODEL_NAME = \"facebook/layerskip-llama3.2-1B\"\n",
    "SAMPLE_SIZE = 10\n",
    "benchmark = GSM8KBenchmark(model_name=MODEL_NAME)\n",
    "benchmark.run_benchmark(sample_size=SAMPLE_SIZE)"
   ]
  },
  {
   "cell_type": "markdown",
   "metadata": {},
   "source": []
  }
 ],
 "metadata": {
  "kernelspec": {
   "display_name": "cs7643",
   "language": "python",
   "name": "python3"
  },
  "language_info": {
   "codemirror_mode": {
    "name": "ipython",
    "version": 3
   },
   "file_extension": ".py",
   "mimetype": "text/x-python",
   "name": "python",
   "nbconvert_exporter": "python",
   "pygments_lexer": "ipython3",
   "version": "3.13.2"
  },
  "orig_nbformat": 4
 },
 "nbformat": 4,
 "nbformat_minor": 2
}
